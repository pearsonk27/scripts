{
 "cells": [
  {
   "cell_type": "code",
   "execution_count": null,
   "metadata": {},
   "outputs": [],
   "source": [
    "import re\n",
    "\n",
    "# Define the regex pattern\n",
    "pattern = re.compile(r'(?P<numberOfPages>\\d)page.bat.*\\n.*\"C:\\\\My Documents\\\\PDFsForConversion\\\\(?P<subdirectory>.*)\\\\(?P<fileName>.*).pcl\"')\n",
    "\n",
    "# Read the content of the file\n",
    "with open('/Users/kristoferpearson/Dev/Landy/Projects/RapPclCoordinates_20250224/MakePCLS.bat', 'r') as file:\n",
    "    content = file.read()\n",
    "\n",
    "# Find all matches\n",
    "matches = pattern.finditer(content)\n",
    "\n",
    "# Print the capture groups\n",
    "for match in matches:\n",
    "    print(f\"buildTrainingPdf({match.group('numberOfPages')}, \\\"{match.group('subdirectory')}\\\", \\\"{match.group('fileName')}\\\");\")"
   ]
  },
  {
   "cell_type": "code",
   "execution_count": 9,
   "metadata": {},
   "outputs": [
    {
     "name": "stdout",
     "output_type": "stream",
     "text": [
      "buildTrainingPdf(2, \"RAB_Endors\", \"D43414VT0624\");\n",
      "buildTrainingPdf(1, \"RAB_Endors\", \"D43421VA0624\");\n",
      "buildTrainingPdf(1, \"RAB_Endors\", \"D434120624\");\n",
      "buildTrainingPdf(2, \"RAB_Endors\", \"D434030624\");\n",
      "buildTrainingPdf(5, \"RAB_Endors\", \"D43441IL0624\");\n",
      "buildTrainingPdf(2, \"RAB_Endors\", \"D434250624\");\n",
      "buildTrainingPdf(2, \"RAB_Endors\", \"D43415VT0624\");\n",
      "buildTrainingPdf(1, \"RAB_Endors\", \"D434110624\");\n",
      "buildTrainingPdf(2, \"RAB_Endors\", \"D434450624\");\n",
      "buildTrainingPdf(2, \"RAB_Endors\", \"D434190624\");\n",
      "buildTrainingPdf(1, \"RAB_Endors\", \"D434260624\");\n",
      "buildTrainingPdf(1, \"RAB_Endors\", \"D434540624\");\n",
      "buildTrainingPdf(2, \"RAB_Endors\", \"D434150624\");\n",
      "buildTrainingPdf(1, \"RAB_Endors\", \"D434050624\");\n",
      "buildTrainingPdf(2, \"RAB_Endors\", \"D434510624\");\n",
      "buildTrainingPdf(5, \"RAB_Endors\", \"D434410624\");\n",
      "buildTrainingPdf(5, \"RAB_Endors\", \"D43441NH0624\");\n",
      "buildTrainingPdf(1, \"RAB_Endors\", \"D434220624\");\n",
      "buildTrainingPdf(1, \"RAB_Endors\", \"D434320624\");\n",
      "buildTrainingPdf(2, \"RAB_Endors\", \"D434140624\");\n",
      "buildTrainingPdf(1, \"RAB_Endors\", \"D434520624\");\n",
      "buildTrainingPdf(2, \"RAB_Endors\", \"D434200624\");\n",
      "buildTrainingPdf(2, \"RAB_Endors\", \"D434390624\");\n",
      "buildTrainingPdf(1, \"RAB_Endors\", \"D434070624\");\n",
      "buildTrainingPdf(1, \"RAB_Endors\", \"D434530624\");\n",
      "buildTrainingPdf(1, \"RAB_Endors\", \"D434210624\");\n",
      "buildTrainingPdf(5, \"RAS_Apps\", \"D43200NH0624\");\n",
      "buildTrainingPdf(2, \"RAS_Apps\", \"D43200VT0624\");\n",
      "buildTrainingPdf(4, \"RAS_Apps\", \"D43200HI0624\");\n",
      "buildTrainingPdf(2, \"RAS_Apps\", \"D43200KS0624\");\n",
      "buildTrainingPdf(5, \"RAS_Apps\", \"D432000624\");\n",
      "buildTrainingPdf(2, \"RAS_Apps\", \"D43200CA0624\");\n",
      "buildTrainingPdf(5, \"RAS_Apps\", \"D43200FL0624\");\n",
      "buildTrainingPdf(2, \"RAS_Apps\", \"D43200AR0624\");\n",
      "buildTrainingPdf(4, \"RAS_Apps\", \"D43200MT0624\");\n"
     ]
    }
   ],
   "source": [
    "import os\n",
    "import re\n",
    "import PyPDF2\n",
    "\n",
    "# Define the directories\n",
    "RAB_Endorsements_Directory = '/Users/kristoferpearson/Dev/Landy/Projects/RapPclCoordinates_20250224/RAB_Endorsements'\n",
    "RAS_Apps_Directory = '/Users/kristoferpearson/Dev/Landy/Projects/RapPclCoordinates_20250224/RAS_Apps'\n",
    "\n",
    "# Define the regex to capture the formelec names and etc\n",
    "Filename_Regex = re.compile(r\"(?P<fileName>D43(?P<formelecName>.*)0624).pdf\")\n",
    "\n",
    "# Collect all filenames\n",
    "for root, dirs, files in os.walk(RAB_Endorsements_Directory):\n",
    "    for file in files:\n",
    "        pdf_file = open(os.path.join(root, file), 'rb')\n",
    "        pdfReader = PyPDF2.PdfReader(pdf_file)\n",
    "        match = Filename_Regex.match(file)\n",
    "        # print(f\"{len(pdfReader.pages)}page.bat {match.group('formelecName')}\")\n",
    "        # print(f'copy {match.group('formelecName')}.pcl \"C:\\\\My Documents\\\\PDFsForConversion\\\\0624\\\\RAB_Endors\\\\{match.group('fileName')}.pcl\"')\n",
    "        print(f\"buildTrainingPdf({len(pdfReader.pages)}, \\\"RAB_Endors\\\", \\\"{match.group('fileName')}\\\");\")\n",
    "\n",
    "for root, dirs, files in os.walk(RAS_Apps_Directory):\n",
    "    for file in files:\n",
    "        pdf_file = open(os.path.join(root, file), 'rb')\n",
    "        pdfReader = PyPDF2.PdfReader(pdf_file)\n",
    "        match = Filename_Regex.match(file)\n",
    "        # print(f\"{len(pdfReader.pages)}page.bat {match.group('formelecName')}\")\n",
    "        # print(f'copy {match.group('formelecName')}.pcl \"C:\\\\My Documents\\\\PDFsForConversion\\\\0624\\\\RAS_Apps\\\\{match.group('fileName')}.pcl\"')\n",
    "        print(f\"buildTrainingPdf({len(pdfReader.pages)}, \\\"RAS_Apps\\\", \\\"{match.group('fileName')}\\\");\")\n",
    "\n"
   ]
  }
 ],
 "metadata": {
  "kernelspec": {
   "display_name": ".venv",
   "language": "python",
   "name": "python3"
  },
  "language_info": {
   "codemirror_mode": {
    "name": "ipython",
    "version": 3
   },
   "file_extension": ".py",
   "mimetype": "text/x-python",
   "name": "python",
   "nbconvert_exporter": "python",
   "pygments_lexer": "ipython3",
   "version": "3.12.9"
  }
 },
 "nbformat": 4,
 "nbformat_minor": 2
}
