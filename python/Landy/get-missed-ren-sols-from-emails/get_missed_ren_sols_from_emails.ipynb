{
 "cells": [
  {
   "cell_type": "code",
   "execution_count": null,
   "metadata": {},
   "outputs": [
    {
     "name": "stdout",
     "output_type": "stream",
     "text": [
      "Invalid email address for risk ABIR91-6-RAB3874525-24-DEC\n",
      "Invalid email address for risk SHAC01-1-ACS3675842-25-DEC\n",
      "Invalid email address for risk SHAC01-1--ACS3675842-25-DEC\n",
      "Invalid email address for risk PLEH91-4-RAB4887739-24-DEC\n",
      "Email solicitations sent to Accountants\n",
      "Accountants Renewal Application or Letter Errors\n",
      "Error - Check mail server\n",
      "Invalid email address for risk ABIR91-6-RAB3874525-24-DEC\n",
      "Invalid email address for risk SHAC01-1--ACS3675842-25-DEC\n",
      "Invalid email address for risk SHAC01-1-ACS3675842-25-DEC\n"
     ]
    }
   ],
   "source": [
    "import json\n",
    "\n",
    "with open(\"/Volumes/pdf_files/garf/Kris/Projects/RenSolExtraWork_20241129/emails.json\") as json_file:\n",
    "    emails = json.load(json_file)\n",
    "    for email in filter(lambda x: x[\"from\"][\"emailAddress\"][\"name\"] == \"landy_insurance@landy.com\", emails[\"value\"]):\n",
    "        print(email[\"subject\"])"
   ]
  }
 ],
 "metadata": {
  "kernelspec": {
   "display_name": ".venv",
   "language": "python",
   "name": "python3"
  },
  "language_info": {
   "codemirror_mode": {
    "name": "ipython",
    "version": 3
   },
   "file_extension": ".py",
   "mimetype": "text/x-python",
   "name": "python",
   "nbconvert_exporter": "python",
   "pygments_lexer": "ipython3",
   "version": "3.12.9"
  }
 },
 "nbformat": 4,
 "nbformat_minor": 2
}
