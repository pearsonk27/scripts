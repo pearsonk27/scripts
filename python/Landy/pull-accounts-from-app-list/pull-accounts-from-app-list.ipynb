{
 "cells": [
  {
   "cell_type": "code",
   "execution_count": 2,
   "metadata": {},
   "outputs": [],
   "source": [
    "def search_and_write(token, input_filepath, output_filepath, opposite):\n",
    "    with open(input_filepath, 'r') as infile, open(output_filepath, 'w') as outfile:\n",
    "        count = 1\n",
    "        direct_coprod_info = \"Herbert H. Landy Insurance!!Agency, Inc.!!100 River Ridge Drive #301!!!!Norwood!!MA!!02062!!800-336-5422\"\n",
    "        for line in infile:\n",
    "            if opposite == False:\n",
    "                if token in line.replace(direct_coprod_info, \"\") or line == '' or count == 1:\n",
    "                    outfile.write(line)\n",
    "                    count+= 1\n",
    "            else:\n",
    "                if token not in line.replace(direct_coprod_info, \"\") or line == '' or count == 1:\n",
    "                    outfile.write(line)\n",
    "                    count+= 1\n",
    "\n",
    "search_and_write('!!MA!!', '/Volumes/pdf_files/win98/RE_RENEWALS/RE_Express_1022.txt', '/Volumes/pdf_files/garf/Kris/Projects/Ma0819Version_20250226/RE_Express_0819.txt', False)\n",
    "search_and_write('!!MA!!', '/Volumes/pdf_files/win98/RE_RENEWALS/RE_Express_1022.txt', '/Volumes/pdf_files/garf/Kris/Projects/Ma0819Version_20250226/RE_Express_1022.txt', True)"
   ]
  },
  {
   "cell_type": "code",
   "execution_count": 3,
   "metadata": {},
   "outputs": [
    {
     "name": "stdout",
     "output_type": "stream",
     "text": [
      "\n",
      "\n",
      "declare\n",
      "\n",
      "iter integer; -- dummy integer to iterate columns with\n",
      "col text; -- variable to keep the column name at each iteration\n",
      "col_first text; -- first column name, e.g., top left corner on a csv file or spreadsheet\n",
      "\n",
      "begin\n",
      "    set schema 'public';\n",
      "\n",
      "    create table temp_table ();\n",
      "\n",
      "    -- add just enough number of columns\n",
      "    for iter in 1..col_count\n",
      "    loop\n",
      "        execute format('alter table temp_table add column col_%s text;', iter);\n",
      "    end loop;\n",
      "\n",
      "    -- copy the data from csv file\n",
      "    execute format('copy temp_table from %L with delimiter ''^'' quote E''\\b'' csv ', csv_path);\n",
      "\n",
      "    iter := 1;\n",
      "    col_first := (select col_1 from temp_table limit 1);\n",
      "\n",
      "    -- update the column names based on the first row which has the column names\n",
      "    for col in execute format('select unnest(string_to_array(trim(temp_table::text, ''()''), '','')) from temp_table where col_1 = %L', col_first)\n",
      "    loop\n",
      "        execute format('alter table temp_table rename column col_%s to \"%s\"', iter, col);\n",
      "        iter := iter + 1;\n",
      "    end loop;\n",
      "\n",
      "    -- delete the columns row\n",
      "    execute format('delete from temp_table where \"%s\" = %L', col_first, col_first);\n",
      "\n",
      "    -- change the temp table name to the name given as parameter, if not blank\n",
      "    if length(target_table) > 0 then\n",
      "        execute format('alter table temp_table rename to %I', target_table);\n",
      "    end if;\n",
      "\n",
      "end;\n",
      "\n",
      "\n"
     ]
    }
   ],
   "source": [
    "import psycopg2\n",
    "\n",
    "# Connect to your postgres DB\n",
    "conn = psycopg2.connect(\"dbname=landy user=postgres password=postgres host=10.0.0.51\")\n",
    "\n",
    "# Open a cursor to perform database operations\n",
    "cur = conn.cursor()\n",
    "\n",
    "# Execute a query\n",
    "cur.execute(\"select prosrc from pg_proc where oid = 16398;\")\n",
    "\n",
    "# Retrieve query results\n",
    "records = cur.fetchall()\n",
    "\n",
    "# Print the output\n",
    "for record in records:\n",
    "    print(record[0])\n",
    "\n",
    "# Close communication with the database\n",
    "cur.close()\n",
    "conn.close()"
   ]
  }
 ],
 "metadata": {
  "kernelspec": {
   "display_name": ".venv",
   "language": "python",
   "name": "python3"
  },
  "language_info": {
   "codemirror_mode": {
    "name": "ipython",
    "version": 3
   },
   "file_extension": ".py",
   "mimetype": "text/x-python",
   "name": "python",
   "nbconvert_exporter": "python",
   "pygments_lexer": "ipython3",
   "version": "3.12.9"
  }
 },
 "nbformat": 4,
 "nbformat_minor": 2
}
