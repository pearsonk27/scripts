{
 "cells": [
  {
   "cell_type": "code",
   "execution_count": 16,
   "metadata": {},
   "outputs": [
    {
     "name": "stdout",
     "output_type": "stream",
     "text": [
      "Pulling values from $/Volumes/pdf_files/garf/Kris/Projects/LamsGitCommitReport_20241120/StepladderTimeSheets/Timesheet-10212024-10252024-ArumugamJ.xls\n",
      "Pulling values from $/Volumes/pdf_files/garf/Kris/Projects/LamsGitCommitReport_20241120/StepladderTimeSheets/Timesheet-10212024-10252024-BironGifty.xls\n",
      "Pulling values from $/Volumes/pdf_files/garf/Kris/Projects/LamsGitCommitReport_20241120/StepladderTimeSheets/Timesheet-10212024-10252024-JasonSamuel.xls\n",
      "Pulling values from $/Volumes/pdf_files/garf/Kris/Projects/LamsGitCommitReport_20241120/StepladderTimeSheets/Timesheet-10212024-10252024-NikhilReddy.xls\n",
      "Pulling values from $/Volumes/pdf_files/garf/Kris/Projects/LamsGitCommitReport_20241120/StepladderTimeSheets/Timesheet-10212024-10252024-RagulNatarajan.xls\n",
      "Pulling values from $/Volumes/pdf_files/garf/Kris/Projects/LamsGitCommitReport_20241120/StepladderTimeSheets/Timesheet-10212024-10252024-SindhujaBanda.xls\n",
      "Pulling values from $/Volumes/pdf_files/garf/Kris/Projects/LamsGitCommitReport_20241120/StepladderTimeSheets/Timesheet-10282024-11012024-AntonyHarish.xls\n",
      "01-11-2024\n",
      "Pulling values from $/Volumes/pdf_files/garf/Kris/Projects/LamsGitCommitReport_20241120/StepladderTimeSheets/Timesheet-10282024-11012024-KarthickKalidoss.xls\n",
      "01-11-2024\n",
      "Pulling values from $/Volumes/pdf_files/garf/Kris/Projects/LamsGitCommitReport_20241120/StepladderTimeSheets/Timesheet-10282024-11012024-NikhilReddy.xls\n",
      "01-11-2024\n",
      "Pulling values from $/Volumes/pdf_files/garf/Kris/Projects/LamsGitCommitReport_20241120/StepladderTimeSheets/Timesheet-10282024-11012024-RagulNatarajan.xls\n",
      "01-11-2024\n",
      "Pulling values from $/Volumes/pdf_files/garf/Kris/Projects/LamsGitCommitReport_20241120/StepladderTimeSheets/Timesheet-10282024-11012024-SindhujaBanda.xls\n",
      "01-11-2024\n",
      "Pulling values from $/Volumes/pdf_files/garf/Kris/Projects/LamsGitCommitReport_20241120/StepladderTimeSheets/Timesheet-10282024-11012024-ArumugamJ.xls\n",
      "01-11-2024\n",
      "Pulling values from $/Volumes/pdf_files/garf/Kris/Projects/LamsGitCommitReport_20241120/StepladderTimeSheets/Timesheet-10282024-11012024-BironGifty.xls\n",
      "01-11-2024\n",
      "Pulling values from $/Volumes/pdf_files/garf/Kris/Projects/LamsGitCommitReport_20241120/StepladderTimeSheets/Timesheet-10282024-11012024-JasonSamuel.xls\n",
      "01-11-2024\n",
      "Pulling values from $/Volumes/pdf_files/garf/Kris/Projects/LamsGitCommitReport_20241120/StepladderTimeSheets/Timesheet-10212024-10252024-KarthickKalidoss.xls\n",
      "Pulling values from $/Volumes/pdf_files/garf/Kris/Projects/LamsGitCommitReport_20241120/StepladderTimeSheets/Timesheet-10212024-10252024-AntonyHarish.xls\n"
     ]
    }
   ],
   "source": [
    "import xlrd\n",
    "import psycopg2\n",
    "from pathlib import Path\n",
    "import numbers\n",
    "\n",
    "conn = psycopg2.connect(database = \"landy\",\n",
    "                        user = \"kristoferpearson\",\n",
    "                        password = \"\",\n",
    "                        host = \"localhost\",\n",
    "                        port = \"5432\")\n",
    "\n",
    "cur = conn.cursor()\n",
    "\n",
    "for path in Path('/Volumes/pdf_files/garf/Kris/Projects/LamsGitCommitReport_20241120/StepladderTimeSheets/').glob('**/*.xls'):\n",
    "    print(f'Pulling values from ${str(path)}')\n",
    "    workbook = xlrd.open_workbook(str(path))\n",
    "    worksheet = workbook.sheet_by_name('TimeSheet')\n",
    "    name = worksheet.cell(9, 1).value\n",
    "\n",
    "    for i in range(0, 5):\n",
    "        description = worksheet.cell(14, 1 + i).value\n",
    "        date = worksheet.cell(15, 1 + i).value\n",
    "        if isinstance(date, numbers.Number):\n",
    "            date = xlrd.xldate_as_datetime(date, workbook.datemode).strftime(\"%m-%d-%Y\")\n",
    "            print(date)\n",
    "        cur.execute(\"INSERT INTO LamsTimeSheets (Consultant, Date, Description) VALUES (%s, %s, %s)\",\n",
    "                    (name, date, description))\n",
    "\n",
    "conn.commit()\n",
    "conn.close()\n"
   ]
  }
 ],
 "metadata": {
  "kernelspec": {
   "display_name": ".venv",
   "language": "python",
   "name": "python3"
  },
  "language_info": {
   "codemirror_mode": {
    "name": "ipython",
    "version": 3
   },
   "file_extension": ".py",
   "mimetype": "text/x-python",
   "name": "python",
   "nbconvert_exporter": "python",
   "pygments_lexer": "ipython3",
   "version": "3.12.7"
  }
 },
 "nbformat": 4,
 "nbformat_minor": 2
}
