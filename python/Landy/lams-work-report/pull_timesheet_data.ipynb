{
 "cells": [
  {
   "cell_type": "code",
   "execution_count": 4,
   "metadata": {},
   "outputs": [
    {
     "name": "stdout",
     "output_type": "stream",
     "text": [
      "Pulling values from $/Users/kristoferpearson/Downloads/FW_ New payment request from Stepladder Solutions Inc., - invoice 4800/Timesheet-11112024-11152024-NikhilReddy.xls\n",
      "Pulling values from $/Users/kristoferpearson/Downloads/FW_ New payment request from Stepladder Solutions Inc., - invoice 4800/Timesheet-11112024-11152024-KarthickKalidoss.xls\n",
      "Pulling values from $/Users/kristoferpearson/Downloads/FW_ New payment request from Stepladder Solutions Inc., - invoice 4800/Timesheet-11112024-11152024-ArumugamJ.xls\n",
      "Pulling values from $/Users/kristoferpearson/Downloads/FW_ New payment request from Stepladder Solutions Inc., - invoice 4800/Timesheet-11112024-11152024-JasonSamuel.xls\n",
      "Pulling values from $/Users/kristoferpearson/Downloads/FW_ New payment request from Stepladder Solutions Inc., - invoice 4800/Timesheet-11112024-11152024-AntonyHarish.xls\n",
      "Pulling values from $/Users/kristoferpearson/Downloads/FW_ New payment request from Stepladder Solutions Inc., - invoice 4800/Timesheet-11112024-11152024-RagulNatarajan.xls\n",
      "Pulling values from $/Users/kristoferpearson/Downloads/FW_ New payment request from Stepladder Solutions Inc., - invoice 4800/Timesheet-11112024-11152024-SindhujaBanda.xls\n",
      "Pulling values from $/Users/kristoferpearson/Downloads/FW_ New payment request from Stepladder Solutions Inc., - invoice 4800/Timesheet-11112024-11152024-BironGifty.xls\n"
     ]
    }
   ],
   "source": [
    "# import xlrd\n",
    "import psycopg2\n",
    "from pathlib import Path\n",
    "import numbers\n",
    "import pandas as pd\n",
    "\n",
    "conn = psycopg2.connect(database = \"landy\",\n",
    "                        user = \"kristoferpearson\",\n",
    "                        password = \"\",\n",
    "                        host = \"localhost\",\n",
    "                        port = \"5432\")\n",
    "\n",
    "cur = conn.cursor()\n",
    "\n",
    "for path in Path('/Users/kristoferpearson/Downloads/FW_ New payment request from Stepladder Solutions Inc., - invoice 4800').glob('**/*.xls*'):\n",
    "    print(f'Pulling values from ${str(path)}')\n",
    "    df = pd.read_excel(path)\n",
    "    name = df.iloc[8, 1]\n",
    "\n",
    "    for i in range(0, 5):\n",
    "        description = df.iloc[13, 1 + i]\n",
    "        date = df.iloc[14, 1 + i]\n",
    "        cur.execute(\"INSERT INTO LamsTimeSheets (Consultant, Date, Description) VALUES (%s, %s, %s)\",\n",
    "                    (name, date, description))\n",
    "\n",
    "conn.commit()\n",
    "conn.close()\n"
   ]
  }
 ],
 "metadata": {
  "kernelspec": {
   "display_name": ".venv",
   "language": "python",
   "name": "python3"
  },
  "language_info": {
   "codemirror_mode": {
    "name": "ipython",
    "version": 3
   },
   "file_extension": ".py",
   "mimetype": "text/x-python",
   "name": "python",
   "nbconvert_exporter": "python",
   "pygments_lexer": "ipython3",
   "version": "3.12.7"
  }
 },
 "nbformat": 4,
 "nbformat_minor": 2
}
