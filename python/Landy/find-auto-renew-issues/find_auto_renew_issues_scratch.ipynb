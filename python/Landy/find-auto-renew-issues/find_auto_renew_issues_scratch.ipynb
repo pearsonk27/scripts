{
 "cells": [
  {
   "cell_type": "code",
   "execution_count": 2,
   "metadata": {},
   "outputs": [],
   "source": [
    "filename=\"/Users/kristoferpearson/Dev/scripts/python/Landy/find-auto-renew-issues/database.ini\"\n",
    "section=\"postgresql\""
   ]
  },
  {
   "cell_type": "code",
   "execution_count": 3,
   "metadata": {},
   "outputs": [],
   "source": [
    "from configparser import ConfigParser\n",
    "\n",
    "parser = ConfigParser()\n",
    "parser.read(filename)\n",
    "\n",
    "# get section, default to postgresql\n",
    "ret_config = {}\n",
    "if parser.has_section(section):\n",
    "    params = parser.items(section)\n",
    "    for param in params:\n",
    "        ret_config[param[0]] = param[1]\n",
    "else:\n",
    "    raise KeyError(f\"Section {section} not found in the {filename} file\")"
   ]
  },
  {
   "cell_type": "code",
   "execution_count": 6,
   "metadata": {},
   "outputs": [
    {
     "name": "stdout",
     "output_type": "stream",
     "text": [
      "('5/13/2024', Decimal('6000.00'))\n",
      "05/13/2024 is after 09/28/2019 and loss incurred is 6000.00\n"
     ]
    }
   ],
   "source": [
    "import psycopg2\n",
    "from datetime import datetime, timedelta\n",
    "\n",
    "with psycopg2.connect(**ret_config) as conn:\n",
    "    cur = conn.cursor()\n",
    "    cur.execute(\"\"\"SELECT cg.firm_name, cg.total_incurred\n",
    "                    FROM claims_gaclaims cg \n",
    "                    JOIN cpa_icustomer ci ON cg.policy_num = SUBSTRING(ci.policy_num, 4, 7) \n",
    "                    WHERE ci.risk_num = %s\n",
    "                    LIMIT 5;\n",
    "                \"\"\",\n",
    "                (\"ONHI01-1\", ))\n",
    "    account_data = cur.fetchone()\n",
    "    loss_date = datetime.strptime(account_data[0], '%m/%d/%Y')\n",
    "    claim_date = datetime.today() - timedelta(days = 1826)\n",
    "    if loss_date > claim_date and account_data[1] > 0:\n",
    "        print(f\"{loss_date.strftime('%m/%d/%Y')} is after {claim_date.strftime('%m/%d/%Y')} and loss incurred is {account_data[1]}\")\n"
   ]
  }
 ],
 "metadata": {
  "kernelspec": {
   "display_name": ".venv",
   "language": "python",
   "name": "python3"
  },
  "language_info": {
   "codemirror_mode": {
    "name": "ipython",
    "version": 3
   },
   "file_extension": ".py",
   "mimetype": "text/x-python",
   "name": "python",
   "nbconvert_exporter": "python",
   "pygments_lexer": "ipython3",
   "version": "3.12.6"
  }
 },
 "nbformat": 4,
 "nbformat_minor": 2
}
