{
 "cells": [
  {
   "cell_type": "code",
   "execution_count": 11,
   "metadata": {},
   "outputs": [
    {
     "name": "stdout",
     "output_type": "stream",
     "text": [
      "walk_dir = /Users/kristoferpearson/Documents/2024 Real Estate Filing - Forms & Rates\n"
     ]
    }
   ],
   "source": [
    "import os\n",
    "\n",
    "walk_dir = '/Users/kristoferpearson/Documents/2024 Real Estate Filing - Forms & Rates'\n",
    "\n",
    "print('walk_dir = ' + walk_dir)\n",
    "\n",
    "list_file_path = os.path.join(walk_dir, 'my-directory-list.html')\n",
    "\n",
    "def print_dir_items(walk_dir, list_file, walked_paths):\n",
    "    list_file.write(\"<ul>\")\n",
    "    for file in os.scandir(walk_dir):\n",
    "        if file.is_dir() and os.path.join(walk_dir, file) not in walked_paths and os.path.basename(os.path.normpath(file)) not in [\"State Rate Pages\", \"Form Lists\"]:\n",
    "            walked_paths.append(os.path.join(walk_dir, file))\n",
    "            list_file.write(f'<li><a href=\"{os.path.join(walk_dir, file)}\">{os.path.basename(os.path.normpath(file))}</a>')\n",
    "            print_dir_items(os.path.join(walk_dir, file), list_file, walked_paths)\n",
    "            list_file.write(\"</li>\")\n",
    "        if not file.is_dir() and os.path.basename(os.path.normpath(file)) not in [\".DS_Store\", \"my-directory-list.html\"]:\n",
    "            list_file.write(f'<li><a href=\"{os.path.join(walk_dir, file)}\">{os.path.basename(os.path.normpath(file))}</a></li>')\n",
    "    list_file.write(\"</ul>\")\n",
    "\n",
    "with open(list_file_path, 'w') as list_file:\n",
    "    list_file.write(\"<html>\")\n",
    "    walked_paths = []\n",
    "    walked_paths.append(walk_dir)\n",
    "    print_dir_items(walk_dir, list_file, walked_paths)\n",
    "    list_file.write(\"</html>\")\n",
    "\n",
    "            "
   ]
  }
 ],
 "metadata": {
  "kernelspec": {
   "display_name": ".venv",
   "language": "python",
   "name": "python3"
  },
  "language_info": {
   "codemirror_mode": {
    "name": "ipython",
    "version": 3
   },
   "file_extension": ".py",
   "mimetype": "text/x-python",
   "name": "python",
   "nbconvert_exporter": "python",
   "pygments_lexer": "ipython3",
   "version": "3.12.7"
  }
 },
 "nbformat": 4,
 "nbformat_minor": 2
}
